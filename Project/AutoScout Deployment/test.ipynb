{
 "cells": [
  {
   "cell_type": "code",
   "execution_count": 100,
   "source": [
    "from sklearn.preprocessing import StandardScaler\r\n",
    "from PIL import Image\r\n",
    "import pickle\r\n",
    "import pandas as pd"
   ],
   "outputs": [],
   "metadata": {}
  },
  {
   "cell_type": "code",
   "execution_count": 101,
   "source": [
    "model=pickle.load(open(\"lasso_final_model\", \"rb\"))\r\n",
    "\r\n",
    "# Scale Load\r\n",
    "scaler=pickle.load(open(\"scaler\", \"rb\"))\r\n",
    "\r\n",
    "# Columns Load\r\n",
    "X_columns = pickle.load(open(\"colums\", \"rb\"))"
   ],
   "outputs": [],
   "metadata": {}
  },
  {
   "cell_type": "code",
   "execution_count": 102,
   "source": [
    "X_columns"
   ],
   "outputs": [
    {
     "output_type": "execute_result",
     "data": {
      "text/plain": [
       "['hp',\n",
       " 'km',\n",
       " 'age',\n",
       " 'model_A3',\n",
       " 'model_Astra',\n",
       " 'model_Clio',\n",
       " 'model_Corsa',\n",
       " 'model_Espace',\n",
       " 'model_Insignia',\n",
       " 'gearing_type_Manual',\n",
       " 'gearing_type_Semi-automatic']"
      ]
     },
     "metadata": {},
     "execution_count": 102
    }
   ],
   "metadata": {}
  },
  {
   "cell_type": "code",
   "execution_count": 103,
   "source": [
    "# Data\r\n",
    "my_dict = {\r\n",
    "    \"hp\": 100,\r\n",
    "    \"age\": 5,\r\n",
    "    \"km\": 10000,\r\n",
    "    \"model\": 'Clio',\r\n",
    "    \"gearing_type\": \"Manual\"\r\n",
    "}"
   ],
   "outputs": [],
   "metadata": {}
  },
  {
   "cell_type": "code",
   "execution_count": 104,
   "source": [
    "my_dict_1 = pd.DataFrame([my_dict])"
   ],
   "outputs": [],
   "metadata": {}
  },
  {
   "cell_type": "code",
   "execution_count": 106,
   "source": [
    "my_dict_1.loc[0]"
   ],
   "outputs": [
    {
     "output_type": "execute_result",
     "data": {
      "text/plain": [
       "hp                 100\n",
       "age                  5\n",
       "km               10000\n",
       "model             Clio\n",
       "gearing_type    Manual\n",
       "Name: 0, dtype: object"
      ]
     },
     "metadata": {},
     "execution_count": 106
    }
   ],
   "metadata": {}
  },
  {
   "cell_type": "code",
   "execution_count": null,
   "source": [
    "my_dict_2 = pd.get_dummies(my_dict_1).reindex(columns=X_columns, fill_value=0)"
   ],
   "outputs": [],
   "metadata": {}
  },
  {
   "cell_type": "code",
   "execution_count": null,
   "source": [
    "my_dict_2"
   ],
   "outputs": [
    {
     "output_type": "execute_result",
     "data": {
      "text/plain": [
       "    hp     km  age  model_A3  model_Astra  model_Clio  model_Corsa  \\\n",
       "0  100  10000    5         0            0           1            0   \n",
       "\n",
       "   model_Espace  model_Insignia  gearing_type_Manual  \\\n",
       "0             0               0                    1   \n",
       "\n",
       "   gearing_type_Semi-automatic  \n",
       "0                            0  "
      ],
      "text/html": [
       "<div>\n",
       "<style scoped>\n",
       "    .dataframe tbody tr th:only-of-type {\n",
       "        vertical-align: middle;\n",
       "    }\n",
       "\n",
       "    .dataframe tbody tr th {\n",
       "        vertical-align: top;\n",
       "    }\n",
       "\n",
       "    .dataframe thead th {\n",
       "        text-align: right;\n",
       "    }\n",
       "</style>\n",
       "<table border=\"1\" class=\"dataframe\">\n",
       "  <thead>\n",
       "    <tr style=\"text-align: right;\">\n",
       "      <th></th>\n",
       "      <th>hp</th>\n",
       "      <th>km</th>\n",
       "      <th>age</th>\n",
       "      <th>model_A3</th>\n",
       "      <th>model_Astra</th>\n",
       "      <th>model_Clio</th>\n",
       "      <th>model_Corsa</th>\n",
       "      <th>model_Espace</th>\n",
       "      <th>model_Insignia</th>\n",
       "      <th>gearing_type_Manual</th>\n",
       "      <th>gearing_type_Semi-automatic</th>\n",
       "    </tr>\n",
       "  </thead>\n",
       "  <tbody>\n",
       "    <tr>\n",
       "      <th>0</th>\n",
       "      <td>100</td>\n",
       "      <td>10000</td>\n",
       "      <td>5</td>\n",
       "      <td>0</td>\n",
       "      <td>0</td>\n",
       "      <td>1</td>\n",
       "      <td>0</td>\n",
       "      <td>0</td>\n",
       "      <td>0</td>\n",
       "      <td>1</td>\n",
       "      <td>0</td>\n",
       "    </tr>\n",
       "  </tbody>\n",
       "</table>\n",
       "</div>"
      ]
     },
     "metadata": {},
     "execution_count": 75
    }
   ],
   "metadata": {}
  },
  {
   "cell_type": "code",
   "execution_count": null,
   "source": [
    "my_dict_3 = scaler.transform(my_dict_2)"
   ],
   "outputs": [],
   "metadata": {}
  },
  {
   "cell_type": "code",
   "execution_count": null,
   "source": [
    "pred_result = model.predict(my_dict_3)"
   ],
   "outputs": [],
   "metadata": {}
  },
  {
   "cell_type": "code",
   "execution_count": null,
   "source": [
    "pred_result"
   ],
   "outputs": [
    {
     "output_type": "execute_result",
     "data": {
      "text/plain": [
       "array([-6572.15092763])"
      ]
     },
     "metadata": {},
     "execution_count": 78
    }
   ],
   "metadata": {}
  }
 ],
 "metadata": {
  "orig_nbformat": 4,
  "language_info": {
   "name": "python",
   "version": "3.9.0",
   "mimetype": "text/x-python",
   "codemirror_mode": {
    "name": "ipython",
    "version": 3
   },
   "pygments_lexer": "ipython3",
   "nbconvert_exporter": "python",
   "file_extension": ".py"
  },
  "kernelspec": {
   "name": "python3",
   "display_name": "Python 3.9.0 64-bit (system)"
  },
  "interpreter": {
   "hash": "43a9cd95aa030499ef934e4da31e07dde54f3fc3a1fd0cc4aeef7f16459ee2ac"
  }
 },
 "nbformat": 4,
 "nbformat_minor": 2
}